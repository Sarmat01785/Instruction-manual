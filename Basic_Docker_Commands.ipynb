# Основные команды `Docker`

1. Создание контейнера:

```bash
docker create [OPTIONS] IMAGE [COMMAND] [ARG...]
```

2. Запуск контейнера:

```bash
docker start [OPTIONS] CONTAINER
```