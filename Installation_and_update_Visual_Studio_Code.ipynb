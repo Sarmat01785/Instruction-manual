{
 "cells": [
  {
   "cell_type": "markdown",
   "metadata": {},
   "source": [
    "# Установка и обновление Visual Studio Code на ALT Workstation K 10.4 (Sorbaronia Mitschurinii)\n",
    "\n",
    "## Установка"
   ]
  },
  {
   "cell_type": "markdown",
   "metadata": {},
   "source": [
    "1. Скачайте `.rpm` файл для Visual Studio Code со страницы [Visual Studio Code Downloads](https://code.visualstudio.com/download). Выберите версию для Red Hat, Fedora, CentOS."
   ]
  },
  {
   "cell_type": "markdown",
   "metadata": {},
   "source": [
    "2. Перейдите в папку, где вы сохранили `.rpm` файл. Вы можете использовать команду `cd` в терминале для этого. Например, если файл был скачан в папку `Загрузки`, вы можете ввести `cd Загрузки`."
   ]
  },
  {
   "cell_type": "markdown",
   "metadata": {},
   "source": [
    "3. Установите Visual Studio Code, используя следующую команду:"
   ]
  },
  {
   "cell_type": "markdown",
   "metadata": {},
   "source": [
    "```bash\n",
    "sudo apt-get install ./file-name.rpm\n",
    "```"
   ]
  },
  {
   "cell_type": "markdown",
   "metadata": {},
   "source": [
    "\n",
    "(Замените `file-name.rpm` на имя скачанного файла.)"
   ]
  },
  {
   "cell_type": "markdown",
   "metadata": {},
   "source": [
    "## Обновление\n",
    "\n",
    "Процесс обновления Visual Studio Code похож на установку:\n",
    "\n",
    "1. Скачайте новый `.rpm` файл с официального сайта [Visual Studio Code](https://code.visualstudio.com/download) (выберите версию для Red Hat, Fedora, CentOS).\n",
    "\n",
    "2. Откройте терминал и перейдите в папку, где вы сохранили новый `.rpm` файл.\n",
    "\n",
    "3. Запустите команду установки с новым файлом:"
   ]
  },
  {
   "cell_type": "markdown",
   "metadata": {},
   "source": [
    "```bash\n",
    "sudo apt-get install ./new-file-name.rpm\n",
    "```"
   ]
  },
  {
   "cell_type": "markdown",
   "metadata": {},
   "source": [
    "\n",
    "(Замените `new-file-name.rpm` на имя скачанного файла.)\n",
    "\n",
    "Это обновит `Visual Studio Code` до новой версии."
   ]
  }
 ],
 "metadata": {
  "language_info": {
   "name": "python"
  }
 },
 "nbformat": 4,
 "nbformat_minor": 2
}
