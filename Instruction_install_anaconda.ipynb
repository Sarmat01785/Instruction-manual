{
 "cells": [
  {
   "cell_type": "markdown",
   "metadata": {},
   "source": [
    "# Установка Anaconda на ALT Workstation K 10.4\n",
    "\n",
    "## Шаг 1: Загрузка установочного файла\n",
    "Перейдите в нужную директорию и загрузите установочный файл с помощью команды `wget`:"
   ]
  },
  {
   "cell_type": "markdown",
   "metadata": {},
   "source": [
    "```bash\n",
    "cd ~/Загрузки\n",
    "wget https://repo.anaconda.com/archive/Anaconda3-2024.10-1-Linux-x8664.sh\n",
    "```"
   ]
  },
  {
   "cell_type": "markdown",
   "metadata": {},
   "source": [
    "## Шаг 2: Делаем установочный файл исполняемым\n",
    "Сделайте скрипт установки исполняемым с помощью команды `chmod`:"
   ]
  },
  {
   "cell_type": "markdown",
   "metadata": {},
   "source": [
    "```bash\n",
    "chmod +x Anaconda3-2024.10-1-Linux-x8664.sh\n",
    "```"
   ]
  },
  {
   "cell_type": "markdown",
   "metadata": {},
   "source": [
    "\n",
    "## Шаг 3: Запуск установки\n",
    "Запустите скрипт установки с помощью следующей команды:"
   ]
  },
  {
   "cell_type": "markdown",
   "metadata": {},
   "source": [
    "```bash\n",
    "./Anaconda3-2024.10-1-Linux-x8664.sh\n",
    "```"
   ]
  },
  {
   "cell_type": "markdown",
   "metadata": {},
   "source": [
    "## Шаг 4: Принятие лицензионного соглашения\n",
    "Прочитайте и примите лицензионное соглашение, нажимая `ENTER`, пока не увидите вопрос о согласии, и введите `yes`."
   ]
  },
  {
   "cell_type": "markdown",
   "metadata": {},
   "source": [
    "## Шаг 5: Выбор места установки\n",
    "Укажите место установки Anaconda. Если вас устраивает предложенный путь `/home/yourusername/anaconda3`, просто нажмите `ENTER`."
   ]
  },
  {
   "cell_type": "markdown",
   "metadata": {},
   "source": [
    "## Шаг 6: Инициализация conda\n",
    "При запросе на добавление Anaconda в файл инициализации выберите yes. Это добавит `Anaconda` в ваш `PATH`, чтобы вы могли использовать Anaconda из любого каталога в терминале."
   ]
  },
  {
   "cell_type": "markdown",
   "metadata": {},
   "source": [
    "## Шаг 7: Завершение установки и проверка\n",
    "После завершения установки закройте и повторно откройте терминал или источник вашего профиля `bashrc`, чтобы изменения вступили в силу. Проверьте установку, запустив `conda list`. Если установка прошла успешно, вы увидите список пакетов, установленных `Anaconda`."
   ]
  }
 ],
 "metadata": {
  "language_info": {
   "name": "python"
  }
 },
 "nbformat": 4,
 "nbformat_minor": 2
}
